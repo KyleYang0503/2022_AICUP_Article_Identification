{
 "cells": [
  {
   "cell_type": "code",
   "execution_count": 39,
   "id": "8da11b54",
   "metadata": {},
   "outputs": [],
   "source": [
    "def warn(*args, **kwargs):\n",
    "    pass\n",
    "import warnings\n",
    "warnings.warn = warn\n",
    "import json\n",
    "import pickle\n",
    "import numpy as np\n",
    "import jionlp as jio\n",
    "import numpy as np\n",
    "import matplotlib.pyplot as plt"
   ]
  },
  {
   "cell_type": "code",
   "execution_count": 40,
   "id": "ea8eaf57",
   "metadata": {},
   "outputs": [],
   "source": [
    "def load_data_json(json_path):\n",
    "    f = open(json_path, 'r', encoding='utf-8')\n",
    "    json_data = json.load(f)\n",
    "    f.close()\n",
    "    return json_data"
   ]
  },
  {
   "cell_type": "code",
   "execution_count": 41,
   "id": "c95a9153",
   "metadata": {},
   "outputs": [
    {
     "name": "stdout",
     "output_type": "stream",
     "text": [
      "559\n"
     ]
    }
   ],
   "source": [
    "json_path = f'./data/train_complete.json'\n",
    "json_data = load_data_json(json_path)\n",
    "\n",
    "# results_path = f'./output_results/train_result_colbert_text_keywords_hard_neg5_rand_neg30_epoch2'\n",
    "# with open(results_path, 'rb') as handle:\n",
    "#     results = pickle.load(handle)\n",
    "# print(len(results))    \n",
    "print(len(json_data))"
   ]
  },
  {
   "cell_type": "code",
   "execution_count": 42,
   "id": "c2182352",
   "metadata": {},
   "outputs": [
    {
     "name": "stdout",
     "output_type": "stream",
     "text": [
      "3\n"
     ]
    }
   ],
   "source": [
    "data_mode = 'train'\n",
    "binary_used_epoch = 2\n",
    "# binary_results_paths = [\n",
    "#     f'./output_results/{data_mode}_binary_result_cross_encoder_keywords_title_text_large_ensemble1_epoch{binary_used_epoch}',\n",
    "#     f'./output_results/{data_mode}_binary_result_cross_encoder_keywords_title_text_large_ensemble2_epoch{binary_used_epoch}',\n",
    "#     f'./output_results/{data_mode}_binary_result_cross_encoder_keywords_title_text_large_ensemble3_epoch{binary_used_epoch}',\n",
    "#     f'./output_results/{data_mode}_binary_result_cross_encoder_keywords_title_text_large_ensemble4_epoch{binary_used_epoch}',\n",
    "#     f'./output_results/{data_mode}_binary_result_cross_encoder_keywords_title_text_large_ensemble5_epoch{binary_used_epoch}',\n",
    "# ]\n",
    "\n",
    "binary_results_paths = [\n",
    "#     'output_results/public_binary_result_cross_encoder_keywords_title_text_large_ensemble_alldata1',\n",
    "#     'output_results/public_binary_result_cross_encoder_keywords_title_text_large_ensemble_alldata2',\n",
    "#     'output_results/public_binary_result_cross_encoder_keywords_title_text_large_ensemble_alldata3',\n",
    "#     'output_results/public_binary_result_cross_encoder_keywords_title_text_large_ensemble_alldata4',\n",
    "#     'output_results/public_binary_result_cross_encoder_keywords_title_text_large_ensemble_alldata5',\n",
    "\n",
    "#     'output_results/train_binary_result_cross_encoder_20_40_keywords_title_text_large_ensemble1',\n",
    "#     'output_results/train_binary_result_cross_encoder_20_40_keywords_title_text_large_ensemble2',\n",
    "#     'output_results/train_binary_result_cross_encoder_20_40_keywords_title_text_large_ensemble3',\n",
    "# #     'output_results/train_binary_result_cross_encoder_20_40_keywords_title_text_large_ensemble4',\n",
    "#     'output_results/train_binary_result_cross_encoder_20_40_keywords_title_text_large_ensemble5',\n",
    "#     f'./output_results/val_test1',\n",
    "#     f'./output_results/val_test2',\n",
    "#     f'./output_results/val_test3',\n",
    "    './output_results/train_binary_result_chinese-macbert-large_hard5_rand5_title_and_text_fixkeywords_ensemble1',\n",
    "    './output_results/train_binary_result_chinese-macbert-large_hard5_rand5_title_and_text_fixkeywords_ensemble2',\n",
    "    './output_results/train_binary_result_chinese-macbert-large_hard5_rand5_title_and_text_fixkeywords_ensemble3',\n",
    "\n",
    "\n",
    "]\n",
    "num_of_results = len(binary_results_paths)\n",
    "print(num_of_results)"
   ]
  },
  {
   "cell_type": "code",
   "execution_count": 43,
   "id": "5b5d5646",
   "metadata": {},
   "outputs": [
    {
     "name": "stdout",
     "output_type": "stream",
     "text": [
      "559\n",
      "559\n",
      "559\n"
     ]
    }
   ],
   "source": [
    "all_results = []\n",
    "\n",
    "for binary_result_path in binary_results_paths:\n",
    "# binary_result_path  = f'./output_results/public_binary_result_cross_encoder_keywords_title_text_large_ensemble1_epoch2'\n",
    "    with open(binary_result_path, 'rb') as handle:\n",
    "        binary_results = pickle.load(handle)\n",
    "    print(len(binary_results))\n",
    "    all_results.append(binary_results)\n"
   ]
  },
  {
   "cell_type": "code",
   "execution_count": 44,
   "id": "79432712",
   "metadata": {},
   "outputs": [
    {
     "name": "stdout",
     "output_type": "stream",
     "text": [
      "559\n"
     ]
    }
   ],
   "source": [
    "ensemble_results = {}\n",
    "for did in all_results[0].keys():\n",
    "    all_scores = []\n",
    "    for binary_result in all_results:\n",
    "        binary_scores = []\n",
    "        ref_dids = []\n",
    "        for ref_did, binary_score in binary_result[did]:\n",
    "            binary_scores.append(binary_score)\n",
    "            ref_dids.append(ref_did)\n",
    "        all_scores.append(binary_scores)\n",
    "    \n",
    "#         print(all_scores)\n",
    "#         input()\n",
    "\n",
    "    all_scores = np.array(all_scores)\n",
    "    all_scores = np.sum(all_scores, axis=0)\n",
    "    all_scores = all_scores / num_of_results\n",
    "    \n",
    "\n",
    "    did_result = [(ref_did, score) for ref_did, score in zip(ref_dids, all_scores)]\n",
    "    ensemble_results[did] = did_result\n",
    "\n",
    "binary_results = ensemble_results\n",
    "print(len(binary_results))"
   ]
  },
  {
   "cell_type": "code",
   "execution_count": 45,
   "id": "c1c900dd",
   "metadata": {},
   "outputs": [],
   "source": [
    "from sklearn.metrics import f1_score, recall_score, precision_score\n",
    "\n",
    "from sklearn.preprocessing import MultiLabelBinarizer\n",
    "multi = MultiLabelBinarizer()\n",
    "\n",
    "all_dids = []\n",
    "did2data = {}\n",
    "for d in json_data:\n",
    "    did = d['did']\n",
    "    did2data[did] = d\n",
    "    all_dids.append(did)\n"
   ]
  },
  {
   "cell_type": "code",
   "execution_count": 46,
   "id": "53bb2d6e",
   "metadata": {},
   "outputs": [],
   "source": [
    "def jaccard_score(set1, set2):\n",
    "    u = set1.union(set2) \n",
    "    i = set1.intersection(set2)\n",
    "    if len(u) == 0:\n",
    "        return 0\n",
    "    return len(i) / len(u)\n",
    "\n",
    "\n",
    "def dsc_score(set1, set2):\n",
    "    i = set1.intersection(set2)\n",
    "    if len(set1) + len(set2) == 0:\n",
    "        return 0\n",
    "    return (2 * len(i)) / (len(set1) + len(set2))\n",
    "\n",
    "def overlap_coefficient(set1, set2):\n",
    "    i = set1.intersection(set2)\n",
    "    min_ = min(len(set1), len(set2))\n",
    "    if min_ == 0:\n",
    "        return 0\n",
    "    return len(i) / min_\n"
   ]
  },
  {
   "cell_type": "code",
   "execution_count": 47,
   "id": "86b636c6",
   "metadata": {},
   "outputs": [],
   "source": [
    "from collections import defaultdict\n",
    "keyword_set_sim = defaultdict(dict)\n",
    "for i in range(len(json_data)):\n",
    "    for k in range(len(json_data)):\n",
    "        \n",
    "        did_i = json_data[i]['did']\n",
    "        did_k = json_data[k]['did']\n",
    "        \n",
    "        set_i = set(json_data[i]['keyword_set'])\n",
    "        set_k = set(json_data[k]['keyword_set'])\n",
    "        \n",
    "        sim_socre = dsc_score(set_i, set_k)\n",
    "        keyword_set_sim[did_i][did_k] = sim_socre\n",
    "\n",
    "#         inter = set_i.intersection(set_k)\n",
    "#         keyword_set_sim[did_i][did_k] = len(inter)"
   ]
  },
  {
   "cell_type": "code",
   "execution_count": 48,
   "id": "4138f11a",
   "metadata": {},
   "outputs": [],
   "source": [
    "for i in range(len(json_data)):\n",
    "    did_i = json_data[i]['did']\n",
    "    result = binary_results[did_i]\n",
    "    \n",
    "    \n",
    "    set_sim_score = keyword_set_sim[did_i]\n",
    "    for ref_did, score in set_sim_score.items():\n",
    "        if did_i == ref_did:\n",
    "            continue\n",
    "        for k, r in enumerate(result):\n",
    "            if r[0] == ref_did:\n",
    "                r = r + (score,)\n",
    "                result[k] = r\n",
    "                break\n",
    "    binary_results[did_i] = result"
   ]
  },
  {
   "cell_type": "code",
   "execution_count": 49,
   "id": "9eead3cd",
   "metadata": {},
   "outputs": [],
   "source": [
    "def get_static_info(li):\n",
    "    mean = np.mean(li)\n",
    "    median = np.median(li)\n",
    "    std = np.std(li)\n",
    "    max_ = np.max(li)\n",
    "    min_ = np.min(li)\n",
    "    print(f' mean {mean} median {median}, std {std}, max {max_}, min {min_}')\n",
    "    \n",
    "def show_pos_score(pos_dids, scores, all_ref_ids):\n",
    "    for pos_did in pos_dids:\n",
    "        pos_did_score = scores[np.where(all_ref_ids==pos_did)[0]]\n",
    "        print(f'pos_did : {pos_did} softmax score: {pos_did_score}')\n"
   ]
  },
  {
   "cell_type": "code",
   "execution_count": 50,
   "id": "f8a371da",
   "metadata": {
    "scrolled": true
   },
   "outputs": [
    {
     "name": "stdout",
     "output_type": "stream",
     "text": [
      "binary_th = 0.0\n",
      "f1:0.025949970508473676, recall:1.0, precision:0.013336877581662703 \n",
      "binary_th = 0.1\n",
      "f1:0.22280276835916982, recall:0.9913294797687862, precision:0.1428194804943829 \n",
      "binary_th = 0.2\n",
      "f1:0.41819319957492973, recall:0.9868421052631579, precision:0.32267891763738454 \n",
      "binary_th = 0.30000000000000004\n",
      "f1:0.5880144730658947, recall:0.9856628774582076, precision:0.487208700134104 \n",
      "binary_th = 0.4\n",
      "f1:0.7532110284842883, recall:0.9672176425389841, precision:0.6694669255598898 \n",
      "binary_th = 0.5\n",
      "f1:0.8700894904577382, recall:0.950773633753935, precision:0.8353720060638133 \n",
      "binary_th = 0.6000000000000001\n",
      "f1:0.8584816290113564, recall:0.8834116491568307, precision:0.8591494207462416 \n",
      "binary_th = 0.7000000000000001\n",
      "f1:0.7679229278313313, recall:0.7583597574144112, precision:0.8183888847183645 \n",
      "binary_th = 0.8\n",
      "f1:0.629034450737331, recall:0.5978521702616398, precision:0.7254335260115607 \n",
      "binary_th = 0.9\n",
      "f1:0.4308181915238383, recall:0.3903142932193425, precision:0.5558766859344894 \n"
     ]
    }
   ],
   "source": [
    "# binary_results = all_results[0]\n",
    "\n",
    "binary_th = 0.4\n",
    "\n",
    "for binary_th in np.arange(0.0, 1.0,0.1):\n",
    "    print(f'binary_th = {binary_th}')\n",
    "    all_pos_scores = []\n",
    "    all_scores = []\n",
    "    y = []\n",
    "    y_binary = []\n",
    "\n",
    "    \n",
    "    for k, values in binary_results.items():\n",
    "        did = str(k)\n",
    "\n",
    "        binary_value = binary_results[k]\n",
    "\n",
    "        data = did2data[did]\n",
    "        pos_dids = data['pos_dids']\n",
    "        if len(pos_dids) == 0:\n",
    "            continue\n",
    "\n",
    "        all_ref_ids = np.array([v[0] for v in values])\n",
    "\n",
    "\n",
    "#         print(f'did = {k}')\n",
    "#         print('label pos dids')\n",
    "#         print(pos_dids)\n",
    "\n",
    "\n",
    "        binary_scores = [v[1] for v in binary_value]\n",
    "        binary_scores = np.array(binary_scores)\n",
    "        binary_pos_idx = binary_scores >= binary_th\n",
    "        binary_preds = all_ref_ids[binary_pos_idx]\n",
    "        binary_pos_scores = binary_scores[binary_pos_idx]\n",
    "#         print(binary_preds)\n",
    "\n",
    "\n",
    "        set_scores =  [v[2] for v in values]\n",
    "        set_scores = np.array(set_scores)\n",
    "        set_pos_idx = set_scores >= 1\n",
    "        set_preds = all_ref_ids[set_pos_idx]\n",
    "        set_pred_scores = set_scores[set_pos_idx]\n",
    "        \n",
    "        mix_scores = 0.5 * binary_scores + 0.5 * set_scores\n",
    "        mix_pos_idx = mix_scores >= binary_th\n",
    "        mix_preds = all_ref_ids[mix_pos_idx]\n",
    "\n",
    "        be_check_scores = mix_scores\n",
    "        for pos_did in pos_dids :\n",
    "            idx = np.where(all_ref_ids == pos_did)\n",
    "            p_score = be_check_scores[idx][0]\n",
    "    #         print(f'did : {all_ref_ids[idx]}, score : {p_score}')\n",
    "            all_pos_scores.append(p_score)\n",
    "        all_scores += list(be_check_scores)\n",
    "\n",
    "\n",
    "        y.append(pos_dids)\n",
    "        y_binary.append(mix_preds)\n",
    "\n",
    "\n",
    "    multi = MultiLabelBinarizer()\n",
    "    y_multi = multi.fit_transform(y)\n",
    "\n",
    "    y_binary_multi = multi.transform(y_binary)\n",
    "    average = 'macro'\n",
    "    binary_f1  = f1_score(y_multi, y_binary_multi ,average=average)\n",
    "    binary_recall  = recall_score(y_multi, y_binary_multi ,average=average)\n",
    "    binary_precision  = precision_score(y_multi, y_binary_multi ,average=average)\n",
    "#     print('binary')\n",
    "    print(f'f1:{binary_f1}, recall:{binary_recall}, precision:{binary_precision} ')\n",
    "#     break"
   ]
  },
  {
   "cell_type": "code",
   "execution_count": 38,
   "id": "8a1d3b9e",
   "metadata": {},
   "outputs": [
    {
     "name": "stdout",
     "output_type": "stream",
     "text": [
      "pos score\n",
      " mean 0.9063860499206877 median 0.9546301066875458, std 0.11310862460776505, max 0.9936179220676422, min 0.0716598853468895\n",
      "1381\n"
     ]
    },
    {
     "data": {
      "image/png": "[encoded data removed]",
      "text/plain": [
       "<Figure size 432x288 with 1 Axes>"
      ]
     },
     "metadata": {
      "needs_background": "light"
     },
     "output_type": "display_data"
    },
    {
     "name": "stdout",
     "output_type": "stream",
     "text": [
      "all score\n",
      " mean 0.062166299223841655 median 0.002556283725425601, std 0.13002708759591605, max 0.9936179220676422, min 0.0008548999321646988\n",
      "167400\n"
     ]
    },
    {
     "data": {
      "image/png": "[encoded data removed]",
      "text/plain": [
       "<Figure size 432x288 with 1 Axes>"
      ]
     },
     "metadata": {
      "needs_background": "light"
     },
     "output_type": "display_data"
    }
   ],
   "source": [
    "print('pos score')\n",
    "get_static_info(all_pos_scores)\n",
    "print(len(all_pos_scores))\n",
    "n, bins, patches = plt.hist(all_pos_scores)\n",
    "plt.show()\n",
    "\n",
    "print('all score')\n",
    "get_static_info(all_scores)\n",
    "print(len(all_scores))\n",
    "\n",
    "n, bins, patches = plt.hist(all_scores)\n",
    "plt.show()"
   ]
  },
  {
   "cell_type": "code",
   "execution_count": 18,
   "id": "edbfa0a6",
   "metadata": {},
   "outputs": [
    {
     "name": "stdout",
     "output_type": "stream",
     "text": [
      "binary_th = 0.9\n",
      "f1:0.13007567971596748, recall:0.1275779376498801, precision:0.14285714285714285 \n",
      "binary_th = 0.91\n",
      "f1:0.12288143511165094, recall:0.12038369304556355, precision:0.13566289825282632 \n",
      "binary_th = 0.92\n",
      "f1:0.12209660842754368, recall:0.11918465227817746, precision:0.13566289825282632 \n",
      "binary_th = 0.93\n",
      "f1:0.12097750371131667, recall:0.11678657074340529, precision:0.13497773210003428 \n",
      "binary_th = 0.9400000000000001\n",
      "f1:0.120258079250885, recall:0.11438848920863308, precision:0.13477218225419665 \n",
      "binary_th = 0.9500000000000001\n",
      "f1:0.11210460203265958, recall:0.10599520383693045, precision:0.1275779376498801 \n",
      "binary_th = 0.9600000000000001\n",
      "f1:0.11165924403334475, recall:0.10479616306954437, precision:0.12829736211031173 \n",
      "binary_th = 0.9700000000000001\n",
      "f1:0.11014045906132237, recall:0.10119904076738609, precision:0.12949640287769784 \n",
      "binary_th = 0.9800000000000001\n",
      "f1:0.09821856800274066, recall:0.09112709832134293, precision:0.11630695443645082 \n",
      "binary_th = 0.9900000000000001\n",
      "f1:0.01079136690647482, recall:0.009592326139088728, precision:0.014388489208633094 \n"
     ]
    }
   ],
   "source": [
    "binary_th = 0.5\n",
    "\n",
    "for binary_th in np.arange(0.9, 1,0.01):\n",
    "    print(f'binary_th = {binary_th}')\n",
    "    y = []\n",
    "    y_binary = []\n",
    "    for k, values in all_results[0].items():\n",
    "        did = str(k)\n",
    "        data = did2data[did]\n",
    "        pos_dids = data['pos_dids']\n",
    "        if len(pos_dids) == 0:\n",
    "            continue\n",
    "\n",
    "        all_ref_ids = np.array([v[0] for v in values])\n",
    "        y.append(pos_dids)\n",
    "\n",
    "        all_preds = []\n",
    "\n",
    "        for single_binary_result in all_results:\n",
    "\n",
    "            binary_value = single_binary_result[k]\n",
    "\n",
    "            binary_scores = [v[1] for v in binary_value]\n",
    "            binary_scores = np.array(binary_scores)\n",
    "            binary_pos_idx = binary_scores >= binary_th\n",
    "            binary_preds = all_ref_ids[binary_pos_idx]\n",
    "            binary_pos_scores = binary_scores[binary_pos_idx]\n",
    "\n",
    "            all_preds.append(set(binary_preds))\n",
    "\n",
    "#         preds = set.intersection(*all_preds)\n",
    "        preds = set.union(*all_preds)\n",
    "        y_binary.append(list(preds))\n",
    "\n",
    "\n",
    "    multi = MultiLabelBinarizer()\n",
    "    y_multi = multi.fit_transform(y)\n",
    "\n",
    "    y_binary_multi = multi.transform(y_binary)\n",
    "    average = 'macro'\n",
    "    binary_f1  = f1_score(y_multi, y_binary_multi ,average=average)\n",
    "    binary_recall  = recall_score(y_multi, y_binary_multi ,average=average)\n",
    "    binary_precision  = precision_score(y_multi, y_binary_multi ,average=average)\n",
    "    #     print('binary')\n",
    "    print(f'f1:{binary_f1}, recall:{binary_recall}, precision:{binary_precision} ')"
   ]
  },
  {
   "cell_type": "code",
   "execution_count": 23,
   "id": "da4431cd",
   "metadata": {},
   "outputs": [
    {
     "name": "stdout",
     "output_type": "stream",
     "text": [
      "pos score\n",
      " mean [] median [], std [], max [0.98278946], min [0.98278946]\n",
      "1692\n"
     ]
    },
    {
     "name": "stderr",
     "output_type": "stream",
     "text": [
      "/home/nlplab/harry/anaconda3/lib/python3.8/site-packages/numpy/core/_asarray.py:136: VisibleDeprecationWarning: Creating an ndarray from ragged nested sequences (which is a list-or-tuple of lists-or-tuples-or ndarrays with different lengths or shapes) is deprecated. If you meant to do this, you must specify 'dtype=object' when creating the ndarray\n",
      "  return array(a, dtype, copy=False, order=order, subok=True)\n",
      "/home/nlplab/harry/anaconda3/lib/python3.8/site-packages/numpy/core/fromnumeric.py:87: VisibleDeprecationWarning: Creating an ndarray from ragged nested sequences (which is a list-or-tuple of lists-or-tuples-or ndarrays with different lengths or shapes) is deprecated. If you meant to do this, you must specify 'dtype=object' when creating the ndarray\n",
      "  return ufunc.reduce(obj, axis, dtype, out, **passkwargs)\n"
     ]
    },
    {
     "ename": "KeyboardInterrupt",
     "evalue": "",
     "output_type": "error",
     "traceback": [
      "\u001b[0;31m---------------------------------------------------------------------------\u001b[0m",
      "\u001b[0;31mKeyboardInterrupt\u001b[0m                         Traceback (most recent call last)",
      "\u001b[0;32m<ipython-input-23-463357d53cf0>\u001b[0m in \u001b[0;36m<module>\u001b[0;34m\u001b[0m\n\u001b[1;32m      3\u001b[0m \u001b[0mprint\u001b[0m\u001b[0;34m(\u001b[0m\u001b[0mlen\u001b[0m\u001b[0;34m(\u001b[0m\u001b[0mall_pos_scores\u001b[0m\u001b[0;34m)\u001b[0m\u001b[0;34m)\u001b[0m\u001b[0;34m\u001b[0m\u001b[0;34m\u001b[0m\u001b[0m\n\u001b[1;32m      4\u001b[0m \u001b[0mn\u001b[0m\u001b[0;34m,\u001b[0m \u001b[0mbins\u001b[0m\u001b[0;34m,\u001b[0m \u001b[0mpatches\u001b[0m \u001b[0;34m=\u001b[0m \u001b[0mplt\u001b[0m\u001b[0;34m.\u001b[0m\u001b[0mhist\u001b[0m\u001b[0;34m(\u001b[0m\u001b[0mall_pos_scores\u001b[0m\u001b[0;34m)\u001b[0m\u001b[0;34m\u001b[0m\u001b[0;34m\u001b[0m\u001b[0m\n\u001b[0;32m----> 5\u001b[0;31m \u001b[0mplt\u001b[0m\u001b[0;34m.\u001b[0m\u001b[0mshow\u001b[0m\u001b[0;34m(\u001b[0m\u001b[0;34m)\u001b[0m\u001b[0;34m\u001b[0m\u001b[0;34m\u001b[0m\u001b[0m\n\u001b[0m\u001b[1;32m      6\u001b[0m \u001b[0;34m\u001b[0m\u001b[0m\n\u001b[1;32m      7\u001b[0m \u001b[0mprint\u001b[0m\u001b[0;34m(\u001b[0m\u001b[0;34m'all score'\u001b[0m\u001b[0;34m)\u001b[0m\u001b[0;34m\u001b[0m\u001b[0;34m\u001b[0m\u001b[0m\n",
      "\u001b[0;32m~/anaconda3/lib/python3.8/site-packages/matplotlib/pyplot.py\u001b[0m in \u001b[0;36mshow\u001b[0;34m(*args, **kwargs)\u001b[0m\n\u001b[1;32m    351\u001b[0m     \"\"\"\n\u001b[1;32m    352\u001b[0m     \u001b[0m_warn_if_gui_out_of_main_thread\u001b[0m\u001b[0;34m(\u001b[0m\u001b[0;34m)\u001b[0m\u001b[0;34m\u001b[0m\u001b[0;34m\u001b[0m\u001b[0m\n\u001b[0;32m--> 353\u001b[0;31m     \u001b[0;32mreturn\u001b[0m \u001b[0m_backend_mod\u001b[0m\u001b[0;34m.\u001b[0m\u001b[0mshow\u001b[0m\u001b[0;34m(\u001b[0m\u001b[0;34m*\u001b[0m\u001b[0margs\u001b[0m\u001b[0;34m,\u001b[0m \u001b[0;34m**\u001b[0m\u001b[0mkwargs\u001b[0m\u001b[0;34m)\u001b[0m\u001b[0;34m\u001b[0m\u001b[0;34m\u001b[0m\u001b[0m\n\u001b[0m\u001b[1;32m    354\u001b[0m \u001b[0;34m\u001b[0m\u001b[0m\n\u001b[1;32m    355\u001b[0m \u001b[0;34m\u001b[0m\u001b[0m\n",
      "\u001b[0;32m~/anaconda3/lib/python3.8/site-packages/ipykernel/pylab/backend_inline.py\u001b[0m in \u001b[0;36mshow\u001b[0;34m(close, block)\u001b[0m\n\u001b[1;32m     39\u001b[0m     \u001b[0;32mtry\u001b[0m\u001b[0;34m:\u001b[0m\u001b[0;34m\u001b[0m\u001b[0;34m\u001b[0m\u001b[0m\n\u001b[1;32m     40\u001b[0m         \u001b[0;32mfor\u001b[0m \u001b[0mfigure_manager\u001b[0m \u001b[0;32min\u001b[0m \u001b[0mGcf\u001b[0m\u001b[0;34m.\u001b[0m\u001b[0mget_all_fig_managers\u001b[0m\u001b[0;34m(\u001b[0m\u001b[0;34m)\u001b[0m\u001b[0;34m:\u001b[0m\u001b[0;34m\u001b[0m\u001b[0;34m\u001b[0m\u001b[0m\n\u001b[0;32m---> 41\u001b[0;31m             display(\n\u001b[0m\u001b[1;32m     42\u001b[0m                 \u001b[0mfigure_manager\u001b[0m\u001b[0;34m.\u001b[0m\u001b[0mcanvas\u001b[0m\u001b[0;34m.\u001b[0m\u001b[0mfigure\u001b[0m\u001b[0;34m,\u001b[0m\u001b[0;34m\u001b[0m\u001b[0;34m\u001b[0m\u001b[0m\n\u001b[1;32m     43\u001b[0m                 \u001b[0mmetadata\u001b[0m\u001b[0;34m=\u001b[0m\u001b[0m_fetch_figure_metadata\u001b[0m\u001b[0;34m(\u001b[0m\u001b[0mfigure_manager\u001b[0m\u001b[0;34m.\u001b[0m\u001b[0mcanvas\u001b[0m\u001b[0;34m.\u001b[0m\u001b[0mfigure\u001b[0m\u001b[0;34m)\u001b[0m\u001b[0;34m\u001b[0m\u001b[0;34m\u001b[0m\u001b[0m\n",
      "\u001b[0;32m~/anaconda3/lib/python3.8/site-packages/IPython/core/display.py\u001b[0m in \u001b[0;36mdisplay\u001b[0;34m(include, exclude, metadata, transient, display_id, *objs, **kwargs)\u001b[0m\n\u001b[1;32m    311\u001b[0m             \u001b[0mpublish_display_data\u001b[0m\u001b[0;34m(\u001b[0m\u001b[0mdata\u001b[0m\u001b[0;34m=\u001b[0m\u001b[0mobj\u001b[0m\u001b[0;34m,\u001b[0m \u001b[0mmetadata\u001b[0m\u001b[0;34m=\u001b[0m\u001b[0mmetadata\u001b[0m\u001b[0;34m,\u001b[0m \u001b[0;34m**\u001b[0m\u001b[0mkwargs\u001b[0m\u001b[0;34m)\u001b[0m\u001b[0;34m\u001b[0m\u001b[0;34m\u001b[0m\u001b[0m\n\u001b[1;32m    312\u001b[0m         \u001b[0;32melse\u001b[0m\u001b[0;34m:\u001b[0m\u001b[0;34m\u001b[0m\u001b[0;34m\u001b[0m\u001b[0m\n\u001b[0;32m--> 313\u001b[0;31m             \u001b[0mformat_dict\u001b[0m\u001b[0;34m,\u001b[0m \u001b[0mmd_dict\u001b[0m \u001b[0;34m=\u001b[0m \u001b[0mformat\u001b[0m\u001b[0;34m(\u001b[0m\u001b[0mobj\u001b[0m\u001b[0;34m,\u001b[0m \u001b[0minclude\u001b[0m\u001b[0;34m=\u001b[0m\u001b[0minclude\u001b[0m\u001b[0;34m,\u001b[0m \u001b[0mexclude\u001b[0m\u001b[0;34m=\u001b[0m\u001b[0mexclude\u001b[0m\u001b[0;34m)\u001b[0m\u001b[0;34m\u001b[0m\u001b[0;34m\u001b[0m\u001b[0m\n\u001b[0m\u001b[1;32m    314\u001b[0m             \u001b[0;32mif\u001b[0m \u001b[0;32mnot\u001b[0m \u001b[0mformat_dict\u001b[0m\u001b[0;34m:\u001b[0m\u001b[0;34m\u001b[0m\u001b[0;34m\u001b[0m\u001b[0m\n\u001b[1;32m    315\u001b[0m                 \u001b[0;31m# nothing to display (e.g. _ipython_display_ took over)\u001b[0m\u001b[0;34m\u001b[0m\u001b[0;34m\u001b[0m\u001b[0;34m\u001b[0m\u001b[0m\n",
      "\u001b[0;32m~/anaconda3/lib/python3.8/site-packages/IPython/core/formatters.py\u001b[0m in \u001b[0;36mformat\u001b[0;34m(self, obj, include, exclude)\u001b[0m\n\u001b[1;32m    178\u001b[0m             \u001b[0mmd\u001b[0m \u001b[0;34m=\u001b[0m \u001b[0;32mNone\u001b[0m\u001b[0;34m\u001b[0m\u001b[0;34m\u001b[0m\u001b[0m\n\u001b[1;32m    179\u001b[0m             \u001b[0;32mtry\u001b[0m\u001b[0;34m:\u001b[0m\u001b[0;34m\u001b[0m\u001b[0;34m\u001b[0m\u001b[0m\n\u001b[0;32m--> 180\u001b[0;31m                 \u001b[0mdata\u001b[0m \u001b[0;34m=\u001b[0m \u001b[0mformatter\u001b[0m\u001b[0;34m(\u001b[0m\u001b[0mobj\u001b[0m\u001b[0;34m)\u001b[0m\u001b[0;34m\u001b[0m\u001b[0;34m\u001b[0m\u001b[0m\n\u001b[0m\u001b[1;32m    181\u001b[0m             \u001b[0;32mexcept\u001b[0m\u001b[0;34m:\u001b[0m\u001b[0;34m\u001b[0m\u001b[0;34m\u001b[0m\u001b[0m\n\u001b[1;32m    182\u001b[0m                 \u001b[0;31m# FIXME: log the exception\u001b[0m\u001b[0;34m\u001b[0m\u001b[0;34m\u001b[0m\u001b[0;34m\u001b[0m\u001b[0m\n",
      "\u001b[0;32m~/anaconda3/lib/python3.8/site-packages/decorator.py\u001b[0m in \u001b[0;36mfun\u001b[0;34m(*args, **kw)\u001b[0m\n\u001b[1;32m    229\u001b[0m             \u001b[0;32mif\u001b[0m \u001b[0;32mnot\u001b[0m \u001b[0mkwsyntax\u001b[0m\u001b[0;34m:\u001b[0m\u001b[0;34m\u001b[0m\u001b[0;34m\u001b[0m\u001b[0m\n\u001b[1;32m    230\u001b[0m                 \u001b[0margs\u001b[0m\u001b[0;34m,\u001b[0m \u001b[0mkw\u001b[0m \u001b[0;34m=\u001b[0m \u001b[0mfix\u001b[0m\u001b[0;34m(\u001b[0m\u001b[0margs\u001b[0m\u001b[0;34m,\u001b[0m \u001b[0mkw\u001b[0m\u001b[0;34m,\u001b[0m \u001b[0msig\u001b[0m\u001b[0;34m)\u001b[0m\u001b[0;34m\u001b[0m\u001b[0;34m\u001b[0m\u001b[0m\n\u001b[0;32m--> 231\u001b[0;31m             \u001b[0;32mreturn\u001b[0m \u001b[0mcaller\u001b[0m\u001b[0;34m(\u001b[0m\u001b[0mfunc\u001b[0m\u001b[0;34m,\u001b[0m \u001b[0;34m*\u001b[0m\u001b[0;34m(\u001b[0m\u001b[0mextras\u001b[0m \u001b[0;34m+\u001b[0m \u001b[0margs\u001b[0m\u001b[0;34m)\u001b[0m\u001b[0;34m,\u001b[0m \u001b[0;34m**\u001b[0m\u001b[0mkw\u001b[0m\u001b[0;34m)\u001b[0m\u001b[0;34m\u001b[0m\u001b[0;34m\u001b[0m\u001b[0m\n\u001b[0m\u001b[1;32m    232\u001b[0m     \u001b[0mfun\u001b[0m\u001b[0;34m.\u001b[0m\u001b[0m__name__\u001b[0m \u001b[0;34m=\u001b[0m \u001b[0mfunc\u001b[0m\u001b[0;34m.\u001b[0m\u001b[0m__name__\u001b[0m\u001b[0;34m\u001b[0m\u001b[0;34m\u001b[0m\u001b[0m\n\u001b[1;32m    233\u001b[0m     \u001b[0mfun\u001b[0m\u001b[0;34m.\u001b[0m\u001b[0m__doc__\u001b[0m \u001b[0;34m=\u001b[0m \u001b[0mfunc\u001b[0m\u001b[0;34m.\u001b[0m\u001b[0m__doc__\u001b[0m\u001b[0;34m\u001b[0m\u001b[0;34m\u001b[0m\u001b[0m\n",
      "\u001b[0;32m~/anaconda3/lib/python3.8/site-packages/IPython/core/formatters.py\u001b[0m in \u001b[0;36mcatch_format_error\u001b[0;34m(method, self, *args, **kwargs)\u001b[0m\n\u001b[1;32m    222\u001b[0m     \u001b[0;34m\"\"\"show traceback on failed format call\"\"\"\u001b[0m\u001b[0;34m\u001b[0m\u001b[0;34m\u001b[0m\u001b[0m\n\u001b[1;32m    223\u001b[0m     \u001b[0;32mtry\u001b[0m\u001b[0;34m:\u001b[0m\u001b[0;34m\u001b[0m\u001b[0;34m\u001b[0m\u001b[0m\n\u001b[0;32m--> 224\u001b[0;31m         \u001b[0mr\u001b[0m \u001b[0;34m=\u001b[0m \u001b[0mmethod\u001b[0m\u001b[0;34m(\u001b[0m\u001b[0mself\u001b[0m\u001b[0;34m,\u001b[0m \u001b[0;34m*\u001b[0m\u001b[0margs\u001b[0m\u001b[0;34m,\u001b[0m \u001b[0;34m**\u001b[0m\u001b[0mkwargs\u001b[0m\u001b[0;34m)\u001b[0m\u001b[0;34m\u001b[0m\u001b[0;34m\u001b[0m\u001b[0m\n\u001b[0m\u001b[1;32m    225\u001b[0m     \u001b[0;32mexcept\u001b[0m \u001b[0mNotImplementedError\u001b[0m\u001b[0;34m:\u001b[0m\u001b[0;34m\u001b[0m\u001b[0;34m\u001b[0m\u001b[0m\n\u001b[1;32m    226\u001b[0m         \u001b[0;31m# don't warn on NotImplementedErrors\u001b[0m\u001b[0;34m\u001b[0m\u001b[0;34m\u001b[0m\u001b[0;34m\u001b[0m\u001b[0m\n",
      "\u001b[0;32m~/anaconda3/lib/python3.8/site-packages/IPython/core/formatters.py\u001b[0m in \u001b[0;36m__call__\u001b[0;34m(self, obj)\u001b[0m\n\u001b[1;32m    339\u001b[0m                 \u001b[0;32mpass\u001b[0m\u001b[0;34m\u001b[0m\u001b[0;34m\u001b[0m\u001b[0m\n\u001b[1;32m    340\u001b[0m             \u001b[0;32melse\u001b[0m\u001b[0;34m:\u001b[0m\u001b[0;34m\u001b[0m\u001b[0;34m\u001b[0m\u001b[0m\n\u001b[0;32m--> 341\u001b[0;31m                 \u001b[0;32mreturn\u001b[0m \u001b[0mprinter\u001b[0m\u001b[0;34m(\u001b[0m\u001b[0mobj\u001b[0m\u001b[0;34m)\u001b[0m\u001b[0;34m\u001b[0m\u001b[0;34m\u001b[0m\u001b[0m\n\u001b[0m\u001b[1;32m    342\u001b[0m             \u001b[0;31m# Finally look for special method names\u001b[0m\u001b[0;34m\u001b[0m\u001b[0;34m\u001b[0m\u001b[0;34m\u001b[0m\u001b[0m\n\u001b[1;32m    343\u001b[0m             \u001b[0mmethod\u001b[0m \u001b[0;34m=\u001b[0m \u001b[0mget_real_method\u001b[0m\u001b[0;34m(\u001b[0m\u001b[0mobj\u001b[0m\u001b[0;34m,\u001b[0m \u001b[0mself\u001b[0m\u001b[0;34m.\u001b[0m\u001b[0mprint_method\u001b[0m\u001b[0;34m)\u001b[0m\u001b[0;34m\u001b[0m\u001b[0;34m\u001b[0m\u001b[0m\n",
      "\u001b[0;32m~/anaconda3/lib/python3.8/site-packages/IPython/core/pylabtools.py\u001b[0m in \u001b[0;36m<lambda>\u001b[0;34m(fig)\u001b[0m\n\u001b[1;32m    246\u001b[0m \u001b[0;34m\u001b[0m\u001b[0m\n\u001b[1;32m    247\u001b[0m     \u001b[0;32mif\u001b[0m \u001b[0;34m'png'\u001b[0m \u001b[0;32min\u001b[0m \u001b[0mformats\u001b[0m\u001b[0;34m:\u001b[0m\u001b[0;34m\u001b[0m\u001b[0;34m\u001b[0m\u001b[0m\n\u001b[0;32m--> 248\u001b[0;31m         \u001b[0mpng_formatter\u001b[0m\u001b[0;34m.\u001b[0m\u001b[0mfor_type\u001b[0m\u001b[0;34m(\u001b[0m\u001b[0mFigure\u001b[0m\u001b[0;34m,\u001b[0m \u001b[0;32mlambda\u001b[0m \u001b[0mfig\u001b[0m\u001b[0;34m:\u001b[0m \u001b[0mprint_figure\u001b[0m\u001b[0;34m(\u001b[0m\u001b[0mfig\u001b[0m\u001b[0;34m,\u001b[0m \u001b[0;34m'png'\u001b[0m\u001b[0;34m,\u001b[0m \u001b[0;34m**\u001b[0m\u001b[0mkwargs\u001b[0m\u001b[0;34m)\u001b[0m\u001b[0;34m)\u001b[0m\u001b[0;34m\u001b[0m\u001b[0;34m\u001b[0m\u001b[0m\n\u001b[0m\u001b[1;32m    249\u001b[0m     \u001b[0;32mif\u001b[0m \u001b[0;34m'retina'\u001b[0m \u001b[0;32min\u001b[0m \u001b[0mformats\u001b[0m \u001b[0;32mor\u001b[0m \u001b[0;34m'png2x'\u001b[0m \u001b[0;32min\u001b[0m \u001b[0mformats\u001b[0m\u001b[0;34m:\u001b[0m\u001b[0;34m\u001b[0m\u001b[0;34m\u001b[0m\u001b[0m\n\u001b[1;32m    250\u001b[0m         \u001b[0mpng_formatter\u001b[0m\u001b[0;34m.\u001b[0m\u001b[0mfor_type\u001b[0m\u001b[0;34m(\u001b[0m\u001b[0mFigure\u001b[0m\u001b[0;34m,\u001b[0m \u001b[0;32mlambda\u001b[0m \u001b[0mfig\u001b[0m\u001b[0;34m:\u001b[0m \u001b[0mretina_figure\u001b[0m\u001b[0;34m(\u001b[0m\u001b[0mfig\u001b[0m\u001b[0;34m,\u001b[0m \u001b[0;34m**\u001b[0m\u001b[0mkwargs\u001b[0m\u001b[0;34m)\u001b[0m\u001b[0;34m)\u001b[0m\u001b[0;34m\u001b[0m\u001b[0;34m\u001b[0m\u001b[0m\n",
      "\u001b[0;32m~/anaconda3/lib/python3.8/site-packages/IPython/core/pylabtools.py\u001b[0m in \u001b[0;36mprint_figure\u001b[0;34m(fig, fmt, bbox_inches, **kwargs)\u001b[0m\n\u001b[1;32m    130\u001b[0m         \u001b[0mFigureCanvasBase\u001b[0m\u001b[0;34m(\u001b[0m\u001b[0mfig\u001b[0m\u001b[0;34m)\u001b[0m\u001b[0;34m\u001b[0m\u001b[0;34m\u001b[0m\u001b[0m\n\u001b[1;32m    131\u001b[0m \u001b[0;34m\u001b[0m\u001b[0m\n\u001b[0;32m--> 132\u001b[0;31m     \u001b[0mfig\u001b[0m\u001b[0;34m.\u001b[0m\u001b[0mcanvas\u001b[0m\u001b[0;34m.\u001b[0m\u001b[0mprint_figure\u001b[0m\u001b[0;34m(\u001b[0m\u001b[0mbytes_io\u001b[0m\u001b[0;34m,\u001b[0m \u001b[0;34m**\u001b[0m\u001b[0mkw\u001b[0m\u001b[0;34m)\u001b[0m\u001b[0;34m\u001b[0m\u001b[0;34m\u001b[0m\u001b[0m\n\u001b[0m\u001b[1;32m    133\u001b[0m     \u001b[0mdata\u001b[0m \u001b[0;34m=\u001b[0m \u001b[0mbytes_io\u001b[0m\u001b[0;34m.\u001b[0m\u001b[0mgetvalue\u001b[0m\u001b[0;34m(\u001b[0m\u001b[0;34m)\u001b[0m\u001b[0;34m\u001b[0m\u001b[0;34m\u001b[0m\u001b[0m\n\u001b[1;32m    134\u001b[0m     \u001b[0;32mif\u001b[0m \u001b[0mfmt\u001b[0m \u001b[0;34m==\u001b[0m \u001b[0;34m'svg'\u001b[0m\u001b[0;34m:\u001b[0m\u001b[0;34m\u001b[0m\u001b[0;34m\u001b[0m\u001b[0m\n",
      "\u001b[0;32m~/anaconda3/lib/python3.8/site-packages/matplotlib/backend_bases.py\u001b[0m in \u001b[0;36mprint_figure\u001b[0;34m(self, filename, dpi, facecolor, edgecolor, orientation, format, bbox_inches, pad_inches, bbox_extra_artists, backend, **kwargs)\u001b[0m\n\u001b[1;32m   2193\u001b[0m                         \u001b[0mself\u001b[0m\u001b[0;34m.\u001b[0m\u001b[0mfigure\u001b[0m\u001b[0;34m.\u001b[0m\u001b[0mdraw\u001b[0m\u001b[0;34m(\u001b[0m\u001b[0mrenderer\u001b[0m\u001b[0;34m)\u001b[0m\u001b[0;34m\u001b[0m\u001b[0;34m\u001b[0m\u001b[0m\n\u001b[1;32m   2194\u001b[0m \u001b[0;34m\u001b[0m\u001b[0m\n\u001b[0;32m-> 2195\u001b[0;31m                     bbox_inches = self.figure.get_tightbbox(\n\u001b[0m\u001b[1;32m   2196\u001b[0m                         renderer, bbox_extra_artists=bbox_extra_artists)\n\u001b[1;32m   2197\u001b[0m                     \u001b[0;32mif\u001b[0m \u001b[0mpad_inches\u001b[0m \u001b[0;32mis\u001b[0m \u001b[0;32mNone\u001b[0m\u001b[0;34m:\u001b[0m\u001b[0;34m\u001b[0m\u001b[0;34m\u001b[0m\u001b[0m\n",
      "\u001b[0;32m~/anaconda3/lib/python3.8/site-packages/matplotlib/figure.py\u001b[0m in \u001b[0;36mget_tightbbox\u001b[0;34m(self, renderer, bbox_extra_artists)\u001b[0m\n\u001b[1;32m   2504\u001b[0m \u001b[0;34m\u001b[0m\u001b[0m\n\u001b[1;32m   2505\u001b[0m         \u001b[0;32mfor\u001b[0m \u001b[0ma\u001b[0m \u001b[0;32min\u001b[0m \u001b[0martists\u001b[0m\u001b[0;34m:\u001b[0m\u001b[0;34m\u001b[0m\u001b[0;34m\u001b[0m\u001b[0m\n\u001b[0;32m-> 2506\u001b[0;31m             \u001b[0mbbox\u001b[0m \u001b[0;34m=\u001b[0m \u001b[0ma\u001b[0m\u001b[0;34m.\u001b[0m\u001b[0mget_tightbbox\u001b[0m\u001b[0;34m(\u001b[0m\u001b[0mrenderer\u001b[0m\u001b[0;34m)\u001b[0m\u001b[0;34m\u001b[0m\u001b[0;34m\u001b[0m\u001b[0m\n\u001b[0m\u001b[1;32m   2507\u001b[0m             \u001b[0;32mif\u001b[0m \u001b[0mbbox\u001b[0m \u001b[0;32mis\u001b[0m \u001b[0;32mnot\u001b[0m \u001b[0;32mNone\u001b[0m \u001b[0;32mand\u001b[0m \u001b[0;34m(\u001b[0m\u001b[0mbbox\u001b[0m\u001b[0;34m.\u001b[0m\u001b[0mwidth\u001b[0m \u001b[0;34m!=\u001b[0m \u001b[0;36m0\u001b[0m \u001b[0;32mor\u001b[0m \u001b[0mbbox\u001b[0m\u001b[0;34m.\u001b[0m\u001b[0mheight\u001b[0m \u001b[0;34m!=\u001b[0m \u001b[0;36m0\u001b[0m\u001b[0;34m)\u001b[0m\u001b[0;34m:\u001b[0m\u001b[0;34m\u001b[0m\u001b[0;34m\u001b[0m\u001b[0m\n\u001b[1;32m   2508\u001b[0m                 \u001b[0mbb\u001b[0m\u001b[0;34m.\u001b[0m\u001b[0mappend\u001b[0m\u001b[0;34m(\u001b[0m\u001b[0mbbox\u001b[0m\u001b[0;34m)\u001b[0m\u001b[0;34m\u001b[0m\u001b[0;34m\u001b[0m\u001b[0m\n",
      "\u001b[0;32m~/anaconda3/lib/python3.8/site-packages/matplotlib/artist.py\u001b[0m in \u001b[0;36mget_tightbbox\u001b[0;34m(self, renderer)\u001b[0m\n\u001b[1;32m    280\u001b[0m             \u001b[0mclip_box\u001b[0m \u001b[0;34m=\u001b[0m \u001b[0mself\u001b[0m\u001b[0;34m.\u001b[0m\u001b[0mget_clip_box\u001b[0m\u001b[0;34m(\u001b[0m\u001b[0;34m)\u001b[0m\u001b[0;34m\u001b[0m\u001b[0;34m\u001b[0m\u001b[0m\n\u001b[1;32m    281\u001b[0m             \u001b[0;32mif\u001b[0m \u001b[0mclip_box\u001b[0m \u001b[0;32mis\u001b[0m \u001b[0;32mnot\u001b[0m \u001b[0;32mNone\u001b[0m\u001b[0;34m:\u001b[0m\u001b[0;34m\u001b[0m\u001b[0;34m\u001b[0m\u001b[0m\n\u001b[0;32m--> 282\u001b[0;31m                 \u001b[0mbbox\u001b[0m \u001b[0;34m=\u001b[0m \u001b[0mBbox\u001b[0m\u001b[0;34m.\u001b[0m\u001b[0mintersection\u001b[0m\u001b[0;34m(\u001b[0m\u001b[0mbbox\u001b[0m\u001b[0;34m,\u001b[0m \u001b[0mclip_box\u001b[0m\u001b[0;34m)\u001b[0m\u001b[0;34m\u001b[0m\u001b[0;34m\u001b[0m\u001b[0m\n\u001b[0m\u001b[1;32m    283\u001b[0m             \u001b[0mclip_path\u001b[0m \u001b[0;34m=\u001b[0m \u001b[0mself\u001b[0m\u001b[0;34m.\u001b[0m\u001b[0mget_clip_path\u001b[0m\u001b[0;34m(\u001b[0m\u001b[0;34m)\u001b[0m\u001b[0;34m\u001b[0m\u001b[0;34m\u001b[0m\u001b[0m\n\u001b[1;32m    284\u001b[0m             \u001b[0;32mif\u001b[0m \u001b[0mclip_path\u001b[0m \u001b[0;32mis\u001b[0m \u001b[0;32mnot\u001b[0m \u001b[0;32mNone\u001b[0m \u001b[0;32mand\u001b[0m \u001b[0mbbox\u001b[0m \u001b[0;32mis\u001b[0m \u001b[0;32mnot\u001b[0m \u001b[0;32mNone\u001b[0m\u001b[0;34m:\u001b[0m\u001b[0;34m\u001b[0m\u001b[0;34m\u001b[0m\u001b[0m\n",
      "\u001b[0;32m~/anaconda3/lib/python3.8/site-packages/matplotlib/transforms.py\u001b[0m in \u001b[0;36mintersection\u001b[0;34m(bbox1, bbox2)\u001b[0m\n\u001b[1;32m    678\u001b[0m         \u001b[0mx0\u001b[0m \u001b[0;34m=\u001b[0m \u001b[0mnp\u001b[0m\u001b[0;34m.\u001b[0m\u001b[0mmaximum\u001b[0m\u001b[0;34m(\u001b[0m\u001b[0mbbox1\u001b[0m\u001b[0;34m.\u001b[0m\u001b[0mxmin\u001b[0m\u001b[0;34m,\u001b[0m \u001b[0mbbox2\u001b[0m\u001b[0;34m.\u001b[0m\u001b[0mxmin\u001b[0m\u001b[0;34m)\u001b[0m\u001b[0;34m\u001b[0m\u001b[0;34m\u001b[0m\u001b[0m\n\u001b[1;32m    679\u001b[0m         \u001b[0mx1\u001b[0m \u001b[0;34m=\u001b[0m \u001b[0mnp\u001b[0m\u001b[0;34m.\u001b[0m\u001b[0mminimum\u001b[0m\u001b[0;34m(\u001b[0m\u001b[0mbbox1\u001b[0m\u001b[0;34m.\u001b[0m\u001b[0mxmax\u001b[0m\u001b[0;34m,\u001b[0m \u001b[0mbbox2\u001b[0m\u001b[0;34m.\u001b[0m\u001b[0mxmax\u001b[0m\u001b[0;34m)\u001b[0m\u001b[0;34m\u001b[0m\u001b[0;34m\u001b[0m\u001b[0m\n\u001b[0;32m--> 680\u001b[0;31m         \u001b[0my0\u001b[0m \u001b[0;34m=\u001b[0m \u001b[0mnp\u001b[0m\u001b[0;34m.\u001b[0m\u001b[0mmaximum\u001b[0m\u001b[0;34m(\u001b[0m\u001b[0mbbox1\u001b[0m\u001b[0;34m.\u001b[0m\u001b[0mymin\u001b[0m\u001b[0;34m,\u001b[0m \u001b[0mbbox2\u001b[0m\u001b[0;34m.\u001b[0m\u001b[0mymin\u001b[0m\u001b[0;34m)\u001b[0m\u001b[0;34m\u001b[0m\u001b[0;34m\u001b[0m\u001b[0m\n\u001b[0m\u001b[1;32m    681\u001b[0m         \u001b[0my1\u001b[0m \u001b[0;34m=\u001b[0m \u001b[0mnp\u001b[0m\u001b[0;34m.\u001b[0m\u001b[0mminimum\u001b[0m\u001b[0;34m(\u001b[0m\u001b[0mbbox1\u001b[0m\u001b[0;34m.\u001b[0m\u001b[0mymax\u001b[0m\u001b[0;34m,\u001b[0m \u001b[0mbbox2\u001b[0m\u001b[0;34m.\u001b[0m\u001b[0mymax\u001b[0m\u001b[0;34m)\u001b[0m\u001b[0;34m\u001b[0m\u001b[0;34m\u001b[0m\u001b[0m\n\u001b[1;32m    682\u001b[0m         \u001b[0;32mreturn\u001b[0m \u001b[0mBbox\u001b[0m\u001b[0;34m(\u001b[0m\u001b[0;34m[\u001b[0m\u001b[0;34m[\u001b[0m\u001b[0mx0\u001b[0m\u001b[0;34m,\u001b[0m \u001b[0my0\u001b[0m\u001b[0;34m]\u001b[0m\u001b[0;34m,\u001b[0m \u001b[0;34m[\u001b[0m\u001b[0mx1\u001b[0m\u001b[0;34m,\u001b[0m \u001b[0my1\u001b[0m\u001b[0;34m]\u001b[0m\u001b[0;34m]\u001b[0m\u001b[0;34m)\u001b[0m \u001b[0;32mif\u001b[0m \u001b[0mx0\u001b[0m \u001b[0;34m<=\u001b[0m \u001b[0mx1\u001b[0m \u001b[0;32mand\u001b[0m \u001b[0my0\u001b[0m \u001b[0;34m<=\u001b[0m \u001b[0my1\u001b[0m \u001b[0;32melse\u001b[0m \u001b[0;32mNone\u001b[0m\u001b[0;34m\u001b[0m\u001b[0;34m\u001b[0m\u001b[0m\n",
      "\u001b[0;31mKeyboardInterrupt\u001b[0m: "
     ]
    }
   ],
   "source": [
    "print('pos score')\n",
    "get_static_info(all_pos_scores)\n",
    "print(len(all_pos_scores))\n",
    "n, bins, patches = plt.hist(all_pos_scores)\n",
    "plt.show()\n",
    "\n",
    "print('all score')\n",
    "get_static_info(all_scores)\n",
    "print(len(all_scores))\n",
    "\n",
    "n, bins, patches = plt.hist(all_scores)\n",
    "plt.show()"
   ]
  },
  {
   "cell_type": "code",
   "execution_count": null,
   "id": "e48cc00b",
   "metadata": {},
   "outputs": [],
   "source": []
  },
  {
   "cell_type": "code",
   "execution_count": null,
   "id": "3b1c702b",
   "metadata": {},
   "outputs": [],
   "source": []
  }
 ],
 "metadata": {
  "kernelspec": {
   "display_name": "Python 3",
   "language": "python",
   "name": "python3"
  },
  "language_info": {
   "codemirror_mode": {
    "name": "ipython",
    "version": 3
   },
   "file_extension": ".py",
   "mimetype": "text/x-python",
   "name": "python",
   "nbconvert_exporter": "python",
   "pygments_lexer": "ipython3",
   "version": "3.8.8"
  }
 },
 "nbformat": 4,
 "nbformat_minor": 5
}
