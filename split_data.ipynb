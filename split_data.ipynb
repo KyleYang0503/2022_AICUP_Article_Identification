{
 "cells": [
  {
   "cell_type": "code",
   "execution_count": 1,
   "id": "97214fba",
   "metadata": {},
   "outputs": [
    {
     "name": "stdout",
     "output_type": "stream",
     "text": [
      "`jio.help()` is provided to search how to use jio functions.\n"
     ]
    }
   ],
   "source": [
    "def warn(*args, **kwargs):\n",
    "    pass\n",
    "import warnings\n",
    "warnings.warn = warn\n",
    "import json\n",
    "import pickle\n",
    "import numpy as np\n",
    "import jionlp as jio\n",
    "import numpy as np\n",
    "import matplotlib.pyplot as plt"
   ]
  },
  {
   "cell_type": "code",
   "execution_count": 2,
   "id": "11aa7d4a",
   "metadata": {},
   "outputs": [],
   "source": [
    "def load_data_json(json_path):\n",
    "    f = open(json_path, 'r', encoding='utf-8')\n",
    "    json_data = json.load(f)\n",
    "    f.close()\n",
    "    return json_data"
   ]
  },
  {
   "cell_type": "code",
   "execution_count": 3,
   "id": "2830dcc6",
   "metadata": {},
   "outputs": [
    {
     "name": "stdout",
     "output_type": "stream",
     "text": [
      "559\n"
     ]
    }
   ],
   "source": [
    "json_path = f'./data/train_complete.json'\n",
    "json_data = load_data_json(json_path)\n",
    "print(len(json_data))"
   ]
  },
  {
   "cell_type": "code",
   "execution_count": 4,
   "id": "6446fb2a",
   "metadata": {},
   "outputs": [
    {
     "name": "stdout",
     "output_type": "stream",
     "text": [
      "453\n",
      "106\n"
     ]
    }
   ],
   "source": [
    "import random\n",
    "mytrain = []\n",
    "myval = []\n",
    "\n",
    "for i in range(len(json_data)):\n",
    "    if random.random() > 0.2:\n",
    "        mytrain.append(json_data[i])\n",
    "    else:\n",
    "        myval.append(json_data[i])\n",
    "        \n",
    "print(len(mytrain))\n",
    "print(len(myval))"
   ]
  },
  {
   "cell_type": "code",
   "execution_count": 5,
   "id": "8a85d21f",
   "metadata": {},
   "outputs": [],
   "source": [
    "mytrain_path = './data/mytrain.json'\n",
    "myval_path = './data/myval.json'\n",
    "\n",
    "with open(mytrain_path, 'w', encoding='utf8') as f:\n",
    "    json.dump(mytrain, f, ensure_ascii=False)\n",
    "    \n",
    "with open(myval_path, 'w', encoding='utf8') as f:\n",
    "    json.dump(myval, f, ensure_ascii=False)"
   ]
  },
  {
   "cell_type": "code",
   "execution_count": null,
   "id": "23949f64",
   "metadata": {},
   "outputs": [],
   "source": []
  }
 ],
 "metadata": {
  "kernelspec": {
   "display_name": "Python 3",
   "language": "python",
   "name": "python3"
  },
  "language_info": {
   "codemirror_mode": {
    "name": "ipython",
    "version": 3
   },
   "file_extension": ".py",
   "mimetype": "text/x-python",
   "name": "python",
   "nbconvert_exporter": "python",
   "pygments_lexer": "ipython3",
   "version": "3.8.8"
  }
 },
 "nbformat": 4,
 "nbformat_minor": 5
}
